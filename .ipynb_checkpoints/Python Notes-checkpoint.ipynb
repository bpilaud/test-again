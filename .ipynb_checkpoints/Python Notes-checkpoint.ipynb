{
 "cells": [
  {
   "cell_type": "markdown",
   "metadata": {},
   "source": [
    "# Python Cheat Sheet"
   ]
  },
  {
   "cell_type": "markdown",
   "metadata": {},
   "source": [
    "<a id=\"table\"> </a>\n",
    "##  <u><b>Table of Contents </u></b> \n",
    "1. <a href=\"#comments\">Comments Examples</a> <br>\n",
    "1. <a href='#strings'>String Examples</a> <br>\n",
    "    1. <a href='#stringsloop'>Looping through Strings Examples</a> <br>\n",
    "    1. <a href='#stringsjoin'>Joining Strings and Lists Examples</a> <br>\n",
    "        1. <a href='#pig'>Pig Latin Code</a> <br>\n",
    "    1. <a href='#stringsinit'>Initiallizing Strings Examples</a> <br>\n",
    "1. <a href='#consuleinput'>Command line input example code in markdown out</a> <br>\n",
    "1. <a href='#lists'>List Examples</a> <br>\n",
    "    1. <a href='#enumlist'>Enumerate and Index from List</a> <br>\n",
    "    1. <a href='#numlist'>Initalizing Number Lists start:stop:stride</a> <br>\n",
    "    1. <a href='#anon'>Anonymous functions using Lists</a> <br> \n",
    "    1. <a href='#ziplist'>Zip function for Lists</a> <br> \n",
    "    1. <a href='#poplist'>Removing, Del, and Pop from List</a> <br>\n",
    "     \n",
    "1. <a href='#while'>While Loop Examples</a> <br>\n",
    "1. <a href='#funct'>Functions, Controls and List Examples</a> <br>\n",
    "1. <a href='#dict'>Dictionary Examples</a> <br>\n",
    "1. <a href='#batt'>Battleship Code Example</a> <br>\n",
    "1. <a href='#bit'>Bitwise Operators Examples</a> <br>\n",
    "1. <a href='#mask'>Bitwise Mask Examples</a> <br>\n",
    "1. <a href='#class'>Class Examples</a> <br>\n",
    "    1. <a href='#classinh'>Class Inheritance Examples</a> <br>\n",
    "    1. <a href='#classover'>Class Override Examples</a> <br>\n",
    "1. <a href='#fileio'>Open and Read/Write File Examples</a> <br>\n",
    "\n",
    "Using HTML Tags to make nice Python Notes <br>\n",
    "    __(http://www.simplehtmlguide.com/cheatsheet.php)__ <br>\n",
    "\n",
    "Using markdown cheatsheet to make nice Python Notes <br>\n",
    "    __(https://medium.com/ibm-data-science-experience/markdown-for-jupyter-notebooks-cheatsheet-386c05aeebed)__<br>\n",
    "\n"
   ]
  },
  {
   "cell_type": "markdown",
   "metadata": {},
   "source": [
    "<a id=\"comments\"></a>  <a href=\"#table\">Comment Examples</a>"
   ]
  },
  {
   "cell_type": "code",
   "execution_count": 3,
   "metadata": {
    "collapsed": true
   },
   "outputs": [],
   "source": [
    "# This is a simple line comment\n",
    "###\n",
    "### is a multi lined comment (use \"\"\")\n",
    "###"
   ]
  },
  {
   "cell_type": "markdown",
   "metadata": {},
   "source": [
    "Nits and tips"
   ]
  },
  {
   "cell_type": "code",
   "execution_count": 4,
   "metadata": {},
   "outputs": [
    {
     "name": "stdout",
     "output_type": "stream",
     "text": [
      "['hey', 'hey', 'hey']\n",
      "hey\n",
      "*** *** *** \n",
      "*** *** ***\n",
      "['this', 'hack', 'is', 'wack', 'hack']\n",
      "hack\n",
      "this **** is wack **** \n",
      "this **** is wack ****\n"
     ]
    }
   ],
   "source": [
    "def is_even(x):\n",
    "  if x % 2 == 0:  #Modulo\n",
    "    return true\n",
    "  else:\n",
    "    return false\n",
    "\n",
    "def is_int(x):\n",
    "  if x - int (x) == 0: #type re-cast \n",
    "    return True\n",
    "  else:\n",
    "    return False\n",
    "\n",
    "def factorial(x):\n",
    "  total = 1\n",
    "  list = range(x+1)\n",
    "  for i in list:\n",
    "    if (i > 0):\n",
    "        total = total * i\n",
    "  return total\n",
    "\n",
    "def is_prime(x):\n",
    "  list = range(x)\n",
    "  if (x <= 1):\n",
    "    return False\n",
    "  for i in list:\n",
    "    if (i > 1):\n",
    "      if (x % i == 0):\n",
    "        return False\n",
    "  else:\n",
    "    return True\n",
    "\n",
    "def censor(text, word):\n",
    "  words = text.split()\n",
    "  print(words)\n",
    "  print (word)\n",
    "  ster = \"*\" * len(word)\n",
    "  #ster.append([\"*\"] * len(word))\n",
    "  \n",
    "  result = \"\"\n",
    "  for x in words:\n",
    "    \n",
    "    if (x == word):\n",
    "      result += ster + \" \" \n",
    "    else:\n",
    "      result += x + \" \"\n",
    "  print (result)\n",
    "  return (result[0:len(result)-1])\n",
    "\n",
    "print (censor(\"hey hey hey\", \"hey\"))\n",
    "print (censor(\"this hack is wack hack\", \"hack\"))\n",
    "\n",
    "#pass function allows you to define something and spuff the interpreter to skipping the indent.\n",
    "\n",
    "def donothing(var):  # place holder function\n",
    "    pass"
   ]
  },
  {
   "cell_type": "markdown",
   "metadata": {},
   "source": [
    "<a id='strings'></a>  <a href='#table'>String Examples</a>"
   ]
  },
  {
   "cell_type": "code",
   "execution_count": 5,
   "metadata": {},
   "outputs": [
    {
     "name": "stdout",
     "output_type": "stream",
     "text": [
      "21\n",
      "ANY STRING YOU'D LIKE\n",
      "First strsecond str\n",
      "This isn't flying, this is falling with style!\n",
      "Y\n",
      "Y\n",
      "3.14\n",
      "range(0, 6)\n",
      "range(1, 6)\n",
      "range(1, 6, 3)\n"
     ]
    }
   ],
   "source": [
    "my_string = \"Any String you'd like\"\n",
    "print (len(my_string))\n",
    "print (my_string.upper())\n",
    "\n",
    "a = \"First str\"\n",
    "b = \"second str\"\n",
    "string = a + b #concatenate\n",
    "print (string)\n",
    "\n",
    "# example of escape backslash!\n",
    "print (\"This isn\\'t flying, this is falling with style!\")\n",
    "\n",
    "#+---+---+---+---+---+---+\n",
    "#| P | Y | T | H | O | N |\n",
    "#+---+---+---+---+---+---+\n",
    "#  0   1   2   3   4   5\n",
    "# So if you wanted \"Y\", you could just type\n",
    "print (\"PYTHON\"[1]) #(always start counting from 0!)\n",
    "fifth_letter = \"MONTY\"[4]\n",
    "print (fifth_letter)\n",
    "\n",
    "pi = 3.14\n",
    "print (str(pi))\n",
    "\n",
    "print (range(6)) # => [0, 1, 2, 3, 4, 5] \n",
    "print (range(1,6)) # => [1, 2, 3, 4, 5]\n",
    "print (range(1, 6, 3)) \n",
    "\n"
   ]
  },
  {
   "cell_type": "markdown",
   "metadata": {},
   "source": [
    "<a id='stringsloop'></a>  <a href='#table'>Looping through Strings Examples</a>"
   ]
  },
  {
   "cell_type": "code",
   "execution_count": 6,
   "metadata": {},
   "outputs": [
    {
     "name": "stdout",
     "output_type": "stream",
     "text": [
      "Codecademy"
     ]
    }
   ],
   "source": [
    "for letter in \"Codecademy\":\n",
    "  print (letter, end='')   # Appends a space instead of a newline\n"
   ]
  },
  {
   "cell_type": "code",
   "execution_count": 7,
   "metadata": {},
   "outputs": [
    {
     "name": "stdout",
     "output_type": "stream",
     "text": [
      "You have...\n",
      "A banana\n",
      "A apple\n",
      "A orange\n",
      "A tomato is not a fruit!\n",
      "A tomato\n",
      "A pear\n",
      "A grape\n",
      "A fine selection of fruits!\n"
     ]
    }
   ],
   "source": [
    "fruits = ['banana', 'apple', 'orange', 'tomato', 'pear', 'grape']\n",
    "\n",
    "print ('You have...')\n",
    "for f in fruits:\n",
    "  if f == 'tomato':\n",
    "    print ('A tomato is not a fruit!') # (It actually is.)\n",
    "    #break if code executes else in for loop won't work\n",
    "  print ('A', f)\n",
    "else:\n",
    "  print ('A fine selection of fruits!')"
   ]
  },
  {
   "cell_type": "code",
   "execution_count": 8,
   "metadata": {},
   "outputs": [
    {
     "name": "stdout",
     "output_type": "stream",
     "text": [
      "s\n",
      "p\n",
      "a\n",
      "m\n",
      "!\n",
      "e\n",
      "g\n",
      "g\n",
      "s\n",
      "!\n"
     ]
    }
   ],
   "source": [
    "thing = \"spam!\"\n",
    "for c in thing:\n",
    "  print (c)\n",
    "word = \"eggs!\"\n",
    "for i in range(len(word)):\n",
    "  print (word[i])"
   ]
  },
  {
   "cell_type": "markdown",
   "metadata": {},
   "source": [
    "<a id='stringsjoin'></a>  <a href='#table'>Joining Strings and Lists Examples</a>"
   ]
  },
  {
   "cell_type": "code",
   "execution_count": 9,
   "metadata": {},
   "outputs": [
    {
     "name": "stdout",
     "output_type": "stream",
     "text": [
      "Thisisalist\n",
      "[1, 2, 3, 4, 5, 6]\n",
      "2\n",
      "[1, 2, 3, 4, 5, 6, 7, 8, 9]\n"
     ]
    }
   ],
   "source": [
    "# Join Strings\n",
    "n = [\"This\", \"is\", \"a\", \"list\"]\n",
    "def join_strings(words):\n",
    "  result = \"\"\n",
    "  for word in words:\n",
    "    result += word\n",
    "  return result\n",
    "\n",
    "print (join_strings(n))\n",
    "\n",
    "# Join lists\n",
    "m = [1, 2, 3]\n",
    "n = [4, 5, 6]\n",
    "# Add your code here!\n",
    "def join_lists(x, y):\n",
    "\treturn x + y\n",
    "print (join_lists(m, n))\n",
    "# You want this to print [1, 2, 3, 4, 5, 6]\n",
    "\n",
    "n = [[1, 2, 3], [4, 5, 6, 7, 8, 9]]\n",
    "# Add your function here\n",
    "\n",
    "def flatten(lists):\n",
    "  results = []\n",
    "  for numbers in lists:\n",
    "    for number in numbers:\n",
    "      results.append(number)\n",
    "  return results\n",
    "\n",
    "print (len(n))\n",
    "print (flatten(n))"
   ]
  },
  {
   "cell_type": "markdown",
   "metadata": {},
   "source": [
    "<a id='pig'></a>  <a href='#table'>Pig Latin Code</a>"
   ]
  },
  {
   "cell_type": "code",
   "execution_count": 10,
   "metadata": {},
   "outputs": [
    {
     "name": "stdout",
     "output_type": "stream",
     "text": [
      "oolcay\n"
     ]
    }
   ],
   "source": [
    "#Pig Latin \n",
    "pyg = 'ay'\n",
    "\n",
    "##original = raw_input('Enter a word:')\n",
    "original = \"Cool\"\n",
    "if len(original) > 0 and original.isalpha():\n",
    "    word = original.lower()\n",
    "    first = word[0]\n",
    "    new_word = word + first + pyg\n",
    "    new_word = new_word[1:len(new_word)]\n",
    "    print (new_word)\n",
    "else:\n",
    "    print ('empty')\n"
   ]
  },
  {
   "cell_type": "markdown",
   "metadata": {},
   "source": [
    "<a id='stringsinit'></a>  <a href='#table'>Initializing Strings Examples</a>"
   ]
  },
  {
   "cell_type": "code",
   "execution_count": 11,
   "metadata": {},
   "outputs": [
    {
     "name": "stdout",
     "output_type": "stream",
     "text": [
      "['O', 'O', 'O', 'O', 'O']\n",
      "['O', 'O', 'O', 'O', 'O']\n",
      "['O', 'O', 'O', 'O', 'O']\n",
      "['O', 'O', 'O', 'O', 'O']\n",
      "['O', 'O', 'O', 'O', 'O']\n",
      "O O O O O\n",
      "O O O O O\n",
      "O O O O O\n",
      "O O O O O\n",
      "O O O O O\n"
     ]
    }
   ],
   "source": [
    "#Init Array String (notice mult w/ init char)\n",
    "board = []\n",
    "for i in range(5):\n",
    "  board.append([\"O\"] * 5)\n",
    "\n",
    "def print_board(board_in):\n",
    "  for row in board:\n",
    "    print (row)\n",
    "    \n",
    "def print_board_nospace(board_in):\n",
    "  for row in board:    \n",
    "    print (\" \".join(row))\n",
    "    \n",
    "print_board(board)\n",
    "print_board_nospace(board)"
   ]
  },
  {
   "cell_type": "markdown",
   "metadata": {},
   "source": [
    "<a id='consuleinput'></a>  <a href='#table'>Command line input example code in markdown out</a>\n",
    "\n",
    "JUST TEXT EXAMPLE\n",
    "<tt><font color=green> print </font> <font color=red>\" This is a input test\"</font> <br>\n",
    "name = <font color=green>input </font><font color=red>(\"What is your name? \")</font> <br>\n",
    "quest = <font color=green>input</font><font color=red>(\"What is your quest? \")</font> <br>\n",
    "color = <font color=green>input</font><font color=red>(\"What is your favorite color? \")</font> <br>\n",
    "<font color=green> print </font> <font color=red> \"Ah, so your name is %s, your quest is %s, \" \\ <br>\n",
    "\"and your favorite color is %s.\"</font> % (name, quest, color)<br>\n",
    "\n",
    "This is a input test <br>\n",
    "What is your name? Bill<br>\n",
    "What is your quest? Learning Python <br>\n",
    "What is your favorite color? Blue <br>\n",
    "Ah, so your name is Bill, your quest is Learning Python, and your favorite color is Blue. </tt><br>\n",
    " "
   ]
  },
  {
   "cell_type": "markdown",
   "metadata": {},
   "source": [
    "### Change from markdown to code to run example\n",
    "print(\" This is a input test\")\n",
    "name = input(\"What is your name? \") \n",
    "quest = input(\"What is your quest? \") \n",
    "color = input(\"What is your favorite color? \") \n",
    "\n",
    "\n",
    "print(\"Ah, so your name is %s, your quest is %s, \" \\\n",
    "      \"and your favorite color is %s.\" % (name, quest, color))\n"
   ]
  },
  {
   "cell_type": "markdown",
   "metadata": {},
   "source": [
    "<a id='lists'></a>  <a href='#table'>List Examples</a>"
   ]
  },
  {
   "cell_type": "code",
   "execution_count": 12,
   "metadata": {},
   "outputs": [
    {
     "name": "stdout",
     "output_type": "stream",
     "text": [
      "Adam\n",
      "Alex\n",
      "Mariah\n",
      "Martine\n",
      "Columbus\n",
      "0\n",
      "2\n",
      "4\n",
      "6\n",
      "8\n",
      "10\n",
      "12\n",
      "100\n",
      "100\n",
      "90\n",
      "40\n",
      "80\n",
      "100\n",
      "85\n",
      "70\n",
      "90\n",
      "65\n",
      "90\n",
      "85\n",
      "50.5\n",
      "1045.5\n",
      "80.42307692307692\n",
      "334.0710059171598\n",
      "18.277609414722697\n"
     ]
    }
   ],
   "source": [
    "# For loops\n",
    "names = [\"Adam\",\"Alex\",\"Mariah\",\"Martine\",\"Columbus\"]\n",
    "for x in names:\n",
    "    print (x)\n",
    "\n",
    "a = [0, 1, 2, 3, 4, 5, 6, 7, 8, 9, 10, 11, 12, 13]\n",
    "for x in a:\n",
    "  if x % 2 == 0:\n",
    "    print (x)\n",
    "\n",
    "grades = [100, 100, 90, 40, 80, 100, 85, 70, 90, 65, 90, 85, 50.5]\n",
    "\n",
    "def print_grades(grades_input):\n",
    "  for grade in grades_input:\n",
    "    print (grade)\n",
    "\n",
    "def grades_sum(scores):\n",
    "  total = 0\n",
    "  for score in scores: \n",
    "    total += score\n",
    "  return total\n",
    "    \n",
    "def grades_average(grades_input):\n",
    "  sum_of_grades = grades_sum(grades_input)\n",
    "  average = sum_of_grades / float(len(grades_input))\n",
    "  return average\n",
    "\n",
    "def grades_variance(scores):\n",
    "  variance = 0\n",
    "  average = grades_average(scores)\n",
    "  for score in scores:\n",
    "    variance += (average - score)**2\n",
    "  return variance / float(len(scores))\n",
    "\n",
    "def grades_std_deviation(variance):\n",
    "  return variance ** 0.5\n",
    "\n",
    "print_grades(grades)\n",
    "\n",
    "print (grades_sum(grades))\n",
    "print (grades_average(grades))\n",
    "variance = grades_variance(grades)\n",
    "print (variance)\n",
    "print (grades_std_deviation(variance))"
   ]
  },
  {
   "cell_type": "markdown",
   "metadata": {},
   "source": [
    "<a id='enumlist'></a>  <a href='#table'>Enumerate and Index from List</a>"
   ]
  },
  {
   "cell_type": "code",
   "execution_count": 14,
   "metadata": {},
   "outputs": [
    {
     "name": "stdout",
     "output_type": "stream",
     "text": [
      "Your choices are:\n",
      "1 pizza\n",
      "2 pasta\n",
      "3 salad\n",
      "4 nachos\n"
     ]
    }
   ],
   "source": [
    "choices = ['pizza', 'pasta', 'salad', 'nachos']\n",
    "\n",
    "print ('Your choices are:')\n",
    "for index, item in enumerate(choices):\n",
    "  print (index+1, item)"
   ]
  },
  {
   "cell_type": "markdown",
   "metadata": {},
   "source": [
    "<a id='numlist'></a>  <a href='#table'>Initalizing Number Lists start:stop:stride</a>"
   ]
  },
  {
   "cell_type": "code",
   "execution_count": 15,
   "metadata": {},
   "outputs": [
    {
     "name": "stdout",
     "output_type": "stream",
     "text": [
      "[0, 2, 4, 6, 8, 10, 12, 14, 16, 18, 20, 22, 24, 26, 28, 30, 32, 34, 36, 38, 40, 42, 44, 46, 48, 50]\n",
      "[2, 4, 6, 8, 10]\n",
      "[4, 16, 36, 64, 100]\n",
      "[3, 5, 6, 9, 10, 12, 15]\n",
      "[9, 25, 49, 81]\n",
      "I am the secret message!\n",
      "[1, 2, 3, 4, 5, 6, 7, 8, 9, 10, 11, 12, 13, 14, 15, 16, 17, 18, 19, 20, 21]\n",
      "[1, 3, 5, 7, 9, 11, 13, 15, 17, 19, 21]\n",
      "[8, 9, 10, 11, 12, 13, 14]\n"
     ]
    }
   ],
   "source": [
    "evens_to_50 = [i for i in range(51) if i % 2 == 0]\n",
    "print (evens_to_50)\n",
    "\n",
    "doubles = [x * 2 for x in range(1, 6)]\n",
    "print (doubles)\n",
    "even_squares = [x ** 2 for x in range(1, 11) if (x ** 2) % 2 == 0]\n",
    "print (even_squares)\n",
    "threes_and_fives = [x for x in range(1, 16) if x % 3 == 0 or x % 5 == 0]\n",
    "print (threes_and_fives)\n",
    "\n",
    "l = [i ** 2 for i in range(1, 11)]\n",
    "# Should be [1, 4, 9, 16, 25, 36, 49, 64, 81, 100]\n",
    "print (l[2:9:2]) # start:end:stride  (negative stride reverses direction)\n",
    "\n",
    "garbled = \"!XeXgXaXsXsXeXmX XtXeXrXcXeXsX XeXhXtX XmXaX XI\"\n",
    "message = garbled[::-2]\n",
    "print (message)\n",
    "\n",
    "to_21 = [x for x in range(1, 22)]\n",
    "odds = to_21[::2]\n",
    "middle_third = to_21[7:14]\n",
    "print (to_21)\n",
    "print (odds)\n",
    "print (middle_third)"
   ]
  },
  {
   "cell_type": "markdown",
   "metadata": {},
   "source": [
    "<a id='anon'></a>  <a href='#table'>Anonymous function using Lists</a>"
   ]
  },
  {
   "cell_type": "code",
   "execution_count": 20,
   "metadata": {},
   "outputs": [
    {
     "name": "stdout",
     "output_type": "stream",
     "text": [
      "[0, 3, 6, 9, 12, 15]\n",
      "I am another secret message!\n"
     ]
    }
   ],
   "source": [
    "my_list = range(16)\n",
    "result = list(filter(lambda x: x % 3 == 0, my_list))\n",
    "print (result)\n",
    "\n",
    "garbled = \"IXXX aXXmX aXXXnXoXXXXXtXhXeXXXXrX sXXXXeXcXXXrXeXt mXXeXsXXXsXaXXXXXXgXeX!XX\"\n",
    "\n",
    "message =(filter(lambda x: x != 'X', garbled))\n",
    "print (''.join(message))"
   ]
  },
  {
   "cell_type": "markdown",
   "metadata": {},
   "source": [
    "<a id='ziplist'></a>  <a href='#table'>Zip function for Lists</a>"
   ]
  },
  {
   "cell_type": "code",
   "execution_count": 21,
   "metadata": {},
   "outputs": [
    {
     "name": "stdout",
     "output_type": "stream",
     "text": [
      "3\n",
      "9\n",
      "17\n",
      "15\n",
      "30\n"
     ]
    }
   ],
   "source": [
    "list_a = [3, 9, 17, 15, 19]\n",
    "list_b = [2, 4, 8, 10, 30, 40, 50, 60, 70, 80, 90]\n",
    "\n",
    "for a, b in zip(list_a, list_b):\n",
    "  # Add your code here!\n",
    "  if (a > b):\n",
    "    print (a)\n",
    "  else:\n",
    "    print (b)"
   ]
  },
  {
   "cell_type": "markdown",
   "metadata": {},
   "source": [
    "<a id='poplist'></a>  <a href='#table'>Removing, Del, and Pop from List</a>"
   ]
  },
  {
   "cell_type": "code",
   "execution_count": 47,
   "metadata": {},
   "outputs": [
    {
     "name": "stdout",
     "output_type": "stream",
     "text": [
      "[3, 7, 8, 3]\n",
      "[3, 8, 3]\n",
      "[8, 3]\n",
      "3\n",
      "[8]\n"
     ]
    }
   ],
   "source": [
    "#Removing Items in a list\n",
    "n = [3, 5, 7, 8, 3]\n",
    "index = 1\n",
    "n.pop(index) # will remove the item at index from the list and return it to you:\n",
    "print (n)\n",
    "item = 7\n",
    "n.remove(item) # Removes 1 from the list, # NOT the item at index 1 \n",
    "print (n)\n",
    "del(n[0]) # Doesn't return anything \n",
    "print (n) # prints [1, 5]\n",
    "print (n[1])\n",
    "del(n[1])\n",
    "print (n)"
   ]
  },
  {
   "cell_type": "markdown",
   "metadata": {},
   "source": [
    "<a id='while'></a>  <a href='#table'>While Loops Examples</a>"
   ]
  },
  {
   "cell_type": "code",
   "execution_count": 48,
   "metadata": {},
   "outputs": [
    {
     "name": "stdout",
     "output_type": "stream",
     "text": [
      "Hello, I am a while and count is 0\n",
      "Hello, I am a while and count is 1\n",
      "Hello, I am a while and count is 2\n"
     ]
    }
   ],
   "source": [
    "count = 0\n",
    "while count < 3:\n",
    "  print (\"Hello, I am a while and count is\", count)\n",
    "  count += 1"
   ]
  },
  {
   "cell_type": "code",
   "execution_count": 49,
   "metadata": {},
   "outputs": [
    {
     "name": "stdout",
     "output_type": "stream",
     "text": [
      "Lucky Numbers! 3 numbers will be generated.\n",
      "If one of them is a '5', you lose!\n",
      "6\n",
      "2\n",
      "3\n",
      "You win!\n"
     ]
    }
   ],
   "source": [
    "import random\n",
    "\n",
    "print (\"Lucky Numbers! 3 numbers will be generated.\")\n",
    "print (\"If one of them is a '5', you lose!\")\n",
    "\n",
    "count = 0\n",
    "while count < 3:\n",
    "  num = random.randint(1, 6)\n",
    "  print (num)\n",
    "  if num == 5:\n",
    "    print (\"Sorry, you lose!\")  # condition exits does not execute else\n",
    "    break\n",
    "  count += 1\n",
    "else:  # condition if while holds true\n",
    "  print (\"You win!\")"
   ]
  },
  {
   "cell_type": "code",
   "execution_count": 31,
   "metadata": {},
   "outputs": [
    {
     "name": "stdout",
     "output_type": "stream",
     "text": [
      "2\n",
      "Your guess: 3\n",
      "You have  2  guesses left\n",
      "Your guess: 3\n",
      "You have  1  guesses left\n",
      "Your guess: 3\n",
      "You have  0  guesses left\n",
      "You lose.\n"
     ]
    }
   ],
   "source": [
    "from random import randrange\n",
    "\n",
    "# Generates a number from 1 through 10 inclusive\n",
    "random_number = randint(1, 10)\n",
    "\n",
    "guesses_left = 3\n",
    "# Start your game!\n",
    "num = randrange(1, 6)\n",
    "print (num)\n",
    "while guesses_left > 0:\n",
    "  #guess = int(raw_input(\"Your guess: \"))\n",
    "  guess = 3  # comment out when using raw input.\n",
    "  print (\"Your guess: 3\") # comment out when using raw input\n",
    "  if num == guess:\n",
    "    print (\"You win!\")\n",
    "    break\n",
    "  guesses_left -= 1\n",
    "  print (\"You have \", guesses_left, \" guesses left\")\n",
    "else:\n",
    "  print (\"You lose.\")"
   ]
  },
  {
   "cell_type": "markdown",
   "metadata": {},
   "source": [
    "<a id='funct'></a>  <a href='#table'>Functions, Controls and List Examples</a>"
   ]
  },
  {
   "cell_type": "code",
   "execution_count": 50,
   "metadata": {},
   "outputs": [
    {
     "name": "stdout",
     "output_type": "stream",
     "text": [
      "1955\n"
     ]
    }
   ],
   "source": [
    "def hotel_cost(nights):\n",
    "  return 140 * nights\n",
    "\n",
    "def plane_ride_cost(city):\n",
    "  if city == \"Charlotte\":\n",
    "    return 183\n",
    "  elif city == \"Tampa\":\n",
    "    return 220\n",
    "  elif city == \"Pittsburgh\":\n",
    "    return 222\n",
    "  elif city == \"Los Angeles\":\n",
    "    return 475\n",
    "  \n",
    "def rental_car_cost(days):\n",
    "  cost = 40 * days\n",
    "  if days >= 7:\n",
    "    cost -= 50\n",
    "  elif days >= 3:\n",
    "    cost -= 20\n",
    "  return cost\n",
    "\n",
    "def trip_cost(city, days,spending_money):\n",
    "    return hotel_cost(days)+plane_ride_cost(city)+rental_car_cost(days)+spending_money\n",
    "\n",
    "print (trip_cost(\"Los Angeles\",5,600))\n"
   ]
  },
  {
   "cell_type": "code",
   "execution_count": 60,
   "metadata": {},
   "outputs": [
    {
     "name": "stdout",
     "output_type": "stream",
     "text": [
      "Hello, I am a while and count is 0\n",
      "Hello, I am a while and count is 1\n",
      "Hello, I am a while and count is 2\n",
      "Hello, I am a while and count is 3\n",
      "Hello, I am a while and count is 4\n",
      "Hello, I am a while and count is 5\n",
      "Hello, I am a while and count is 6\n",
      "Hello, I am a while and count is 7\n",
      "Hello, I am a while and count is 8\n",
      "Hello, I am a while and count is 9\n"
     ]
    }
   ],
   "source": [
    "count = 0\n",
    "while count < 10:\n",
    "  print (\"Hello, I am a while and count is\", count)\n",
    "  count += 1"
   ]
  },
  {
   "cell_type": "code",
   "execution_count": 33,
   "metadata": {},
   "outputs": [
    {
     "name": "stdout",
     "output_type": "stream",
     "text": [
      "2\n"
     ]
    }
   ],
   "source": [
    "# Function counting items in X that equal \"fizz\"\n",
    "def fizz_count(x):\n",
    "  count = 0\n",
    "  for n in x:\n",
    "    if n == \"fizz\":\n",
    "      count = count + 1\n",
    "  return count\n",
    "\n",
    "lotto = [\"fizz\", \"cat\", \"fizz\"]\n",
    "small = fizz_count(lotto)\n",
    "print (small)\n"
   ]
  },
  {
   "cell_type": "code",
   "execution_count": 51,
   "metadata": {},
   "outputs": [
    {
     "name": "stdout",
     "output_type": "stream",
     "text": [
      "3\n",
      "5\n",
      "7\n",
      "[6, 10, 14]\n"
     ]
    }
   ],
   "source": [
    "n = [3, 5, 7]\n",
    "\n",
    "def print_list(x):\n",
    "  for i in range(0, len(x)):\n",
    "    print (x[i])\n",
    "print_list(n) \n",
    "\n",
    "def double_list(x):\n",
    "  for i in range(0, len(x)):\n",
    "    x[i] = x[i] * 2\n",
    "  return x\n",
    "print (double_list(n))"
   ]
  },
  {
   "cell_type": "markdown",
   "metadata": {},
   "source": [
    "<a id='dict'></a>  <a href='#table'>Dictionaries Examples</a>"
   ]
  },
  {
   "cell_type": "code",
   "execution_count": 52,
   "metadata": {},
   "outputs": [
    {
     "name": "stdout",
     "output_type": "stream",
     "text": [
      "15\n",
      "{'Dog': 'Sadie', 'Age': '12', 'Smart': True}\n",
      "['Dog', 'Age', 'Smart']\n",
      "['Sadie', '12', True]\n",
      "[('Dog', 'Sadie'), ('Age', '12'), ('Smart', True)]\n",
      "Dog Sadie\n",
      "Age 12\n",
      "Smart True\n"
     ]
    }
   ],
   "source": [
    "score = {\"a\": 1, \"c\": 3, \"b\": 3, \"e\": 1, \"d\": 2, \"g\": 2, \"f\": 4, \"i\": 1, \"h\": 4, \"k\": 5, \"j\": 8, \"m\": 3, \n",
    "         \"l\": 1, \"o\": 1, \"n\": 1, \"q\": 10, \"p\": 3, \"s\": 1, \"r\": 1, \"u\": 1, \"t\": 1, \"w\": 4, \"v\": 4, \"y\": 4, \n",
    "         \"x\": 8, \"z\": 10}\n",
    "\n",
    "def scrabble_score(word):\n",
    "  total = 0\n",
    "  for i in range(len(word)):\n",
    "    total += score[word[i].lower()]\n",
    "  return total\n",
    "\n",
    "print (scrabble_score(\"Helix\"))\n",
    "\n",
    "my_dict = {\n",
    "  \"Dog\" : \"Sadie\",\n",
    "  \"Age\" : \"12\",\n",
    "  \"Smart\" : True\n",
    "}\n",
    "\n",
    "print (my_dict)\n",
    "print (list(my_dict.keys()))\n",
    "print (list(my_dict.values()))\n",
    "\n",
    "print(list(my_dict.items()))\n",
    "for key in my_dict:\n",
    "  print (key, my_dict[key])\n",
    "       "
   ]
  },
  {
   "cell_type": "code",
   "execution_count": 53,
   "metadata": {},
   "outputs": [
    {
     "name": "stdout",
     "output_type": "stream",
     "text": [
      "A star of a popular children's cartoon show.\n",
      "The sound a goat makes.\n",
      "Goes on the floor.\n",
      "A small amount.\n"
     ]
    }
   ],
   "source": [
    "webster = {\n",
    "  \"Aardvark\" : \"A star of a popular children's cartoon show.\",\n",
    "  \"Baa\" : \"The sound a goat makes.\",\n",
    "  \"Carpet\": \"Goes on the floor.\",\n",
    "  \"Dab\": \"A small amount.\"\n",
    "}\n",
    "# Add your code below!\n",
    "for x in webster:\n",
    "  print (webster[x])\n"
   ]
  },
  {
   "cell_type": "code",
   "execution_count": 54,
   "metadata": {},
   "outputs": [
    {
     "name": "stdout",
     "output_type": "stream",
     "text": [
      "banana\n",
      "price: 4\n",
      "stock: 6\n",
      "apple\n",
      "price: 2\n",
      "stock: 0\n",
      "orange\n",
      "price: 1.5\n",
      "stock: 32\n",
      "pear\n",
      "price: 3\n",
      "stock: 15\n",
      "Total Price of List 5.5\n"
     ]
    }
   ],
   "source": [
    "shopping_list = [\"banana\", \"orange\", \"apple\"]\n",
    "prices = {\n",
    "  \"banana\": 4,\n",
    "  \"apple\": 2,\n",
    "  \"orange\": 1.5,\n",
    "  \"pear\": 3\n",
    "}\n",
    "stock = {\n",
    "  \"banana\": 6,\n",
    "  \"apple\": 0,\n",
    "  \"orange\": 32,\n",
    "  \"pear\": 15\n",
    "}\n",
    "for key in prices:\n",
    "  print (key)\n",
    "  print (\"price: %s\" % prices[key])\n",
    "  print (\"stock: %s\" % stock[key])\n",
    "\n",
    "def compute_bill(food):\n",
    "  total = 0\n",
    "  for item in food:\n",
    "    if stock[item] > 0:\n",
    "      total = total + prices[item]\n",
    "      stock[item] = stock[item] - 1\n",
    "  return total\n",
    "\n",
    "print (\"Total Price of List %s\" % compute_bill(shopping_list))"
   ]
  },
  {
   "cell_type": "code",
   "execution_count": 55,
   "metadata": {},
   "outputs": [
    {
     "name": "stdout",
     "output_type": "stream",
     "text": [
      "{'name': 'Lloyd', 'homework': [90.0, 97.0, 75.0, 92.0], 'quizzes': [88.0, 40.0, 94.0], 'tests': [75.0, 90.0]}\n"
     ]
    }
   ],
   "source": [
    "lloyd = {\n",
    "  \"name\": \"Lloyd\",\n",
    "  \"homework\": [],   #Null string\n",
    "  \"quizzes\": [],\n",
    "  \"tests\": []\n",
    "}\n",
    "lloyd[\"homework\"] = [90.0, 97.0, 75.0, 92.0]\n",
    "lloyd[\"quizzes\"] = [88.0, 40.0, 94.0]\n",
    "lloyd[\"tests\"] = [75.0, 90.0]\n",
    "print (lloyd)"
   ]
  },
  {
   "cell_type": "code",
   "execution_count": 57,
   "metadata": {},
   "outputs": [
    {
     "name": "stdout",
     "output_type": "stream",
     "text": [
      "Lloyd's Letter Grade  B\n",
      "Lloyd\n",
      "[55.0, 63.0, 70.0, 90.0]\n",
      "[100, 100, 100]\n",
      "[60, 88, 99, 105]\n",
      "Alice\n",
      "[100.0, 92.0, 98.0, 100.0]\n",
      "[82.0, 83.0, 91.0]\n",
      "[89.0, 97.0]\n",
      "Tyler\n",
      "[0.0, 87.0, 75.0, 22.0]\n",
      "[0.0, 75.0, 78.0]\n",
      "[100.0, 100.0]\n",
      "Class Average of the students is  86.93333333333332\n",
      "Lloyd, Alice, Tyler, \n",
      "Lloyd\n",
      "Alice\n",
      "Tyler\n",
      "[]\n",
      "Class Average Letter Grade is  B\n"
     ]
    }
   ],
   "source": [
    "lloyd = {\n",
    "  \"name\": \"Lloyd\",\n",
    "  \"homework\": [],\n",
    "  \"quizzes\": [],\n",
    "  \"tests\": []\n",
    "}\n",
    "alice = {\n",
    "  \"name\": \"Alice\",\n",
    "  \"homework\": [100.0, 92.0, 98.0, 100.0],\n",
    "  \"quizzes\": [82.0, 83.0, 91.0],\n",
    "  \"tests\": [89.0, 97.0]\n",
    "}\n",
    "tyler = {\n",
    "  \"name\": \"Tyler\",\n",
    "  \"homework\": [0.0, 87.0, 75.0, 22.0],\n",
    "  \"quizzes\": [0.0, 75.0, 78.0],\n",
    "  \"tests\": [100.0, 100.0]\n",
    "}\n",
    "\n",
    "students = [lloyd, alice, tyler]\n",
    "\n",
    "\n",
    "    \n",
    "def print_name(x):\n",
    "  list = \"\"\n",
    "  for i in x:\n",
    "    list = list + i[\"name\"] +\", \"\n",
    "  print (list)\n",
    "\n",
    "def print_name_ns(x):\n",
    "    list = []\n",
    "    for i in x:\n",
    "        #list.join(i[\"name\"])\n",
    "        print (\"\".join(i[\"name\"]))\n",
    "    return list\n",
    "\n",
    "# Act on Dictionary\n",
    "def average(numbers):\n",
    "  total = sum(numbers)\n",
    "  total = float(total)\n",
    "  return total / len(numbers)\n",
    "\n",
    "def get_average(student):\n",
    "  homework = average(student[\"homework\"])\n",
    "  quizzes = average(student[\"quizzes\"])\n",
    "  tests = average(student[\"tests\"])\n",
    "  return (.1 * homework + .3 * quizzes + .6 * tests)\n",
    "\n",
    "def get_letter_grade(score):\n",
    "  if score >= 90:\n",
    "    return (\"A\")\n",
    "  elif score >= 80:\n",
    "    return (\"B\")\n",
    "  elif score >= 70:\n",
    "    return (\"C\")\n",
    "  elif score >= 60:\n",
    "    return (\"D\")\n",
    "  return (\"F\")\n",
    "\n",
    "def get_class_average(class_list):\n",
    "  results = []\n",
    "  for student in class_list:\n",
    "    student_avg = get_average(student)\n",
    "    results.append(student_avg)\n",
    "  return average(results)\n",
    "\n",
    "lloyd[\"homework\"] = [55.0, 63.0, 70.0, 90.0]\n",
    "lloyd[\"quizzes\"] = [100, 100, 100]\n",
    "lloyd[\"tests\"] = [60, 88, 99, 105]\n",
    "print (\"Lloyd\\'s Letter Grade \", get_letter_grade(get_average(lloyd)))\n",
    "\n",
    "students = [lloyd, alice, tyler]\n",
    "for student in students:\n",
    "  print (student[\"name\"])\n",
    "  print (student[\"homework\"])\n",
    "  print (student[\"quizzes\"])\n",
    "  print (student[\"tests\"])\n",
    "    \n",
    "print (\"Class Average of the students is \", get_class_average(students))\n",
    "print_name(students)\n",
    "print (print_name_ns(students))\n",
    "print (\"Class Average Letter Grade is \",get_letter_grade(get_class_average(students)))\n"
   ]
  },
  {
   "cell_type": "markdown",
   "metadata": {},
   "source": [
    "<a id='batt'></a>  <a href='#table'>Battleship Code Example</a>"
   ]
  },
  {
   "cell_type": "code",
   "execution_count": 59,
   "metadata": {},
   "outputs": [
    {
     "name": "stdout",
     "output_type": "stream",
     "text": [
      "O O O O O\n",
      "O O O O O\n",
      "O O O O O\n",
      "O O O O O\n",
      "O O O O O\n",
      "0\n",
      "4\n",
      "Turn 1\n",
      "You missed my battleship!\n",
      "O X O O O\n",
      "O O O O O\n",
      "O O O O O\n",
      "O O O O O\n",
      "O O O O O\n",
      "Turn 2\n",
      "You guessed that one already.\n",
      "O X O O O\n",
      "O O O O O\n",
      "O O O O O\n",
      "O O O O O\n",
      "O O O O O\n",
      "Turn 3\n",
      "You guessed that one already.\n",
      "O X O O O\n",
      "O O O O O\n",
      "O O O O O\n",
      "O O O O O\n",
      "O O O O O\n",
      "Turn 4\n",
      "You guessed that one already.\n",
      "O X O O O\n",
      "O O O O O\n",
      "O O O O O\n",
      "O O O O O\n",
      "O O O O O\n",
      "Game Over\n"
     ]
    }
   ],
   "source": [
    "from random import randint\n",
    "random_row = randint(0, 4)\n",
    "random_col = randint(0, 4)\n",
    "\n",
    "from random import randint\n",
    "\n",
    "board = []\n",
    "\n",
    "for x in range(0, 5):\n",
    "  board.append([\"O\"] * 5)\n",
    "\n",
    "def print_board(board):\n",
    "  for row in board:\n",
    "    print (\" \".join(row))\n",
    "\n",
    "print_board(board)\n",
    "\n",
    "def random_row(board):\n",
    "  return randint(0, len(board) - 1)\n",
    "\n",
    "def random_col(board):\n",
    "  return randint(0, len(board[0]) - 1)\n",
    "\n",
    "ship_row = random_row(board)\n",
    "ship_col = random_col(board)\n",
    "print (ship_row)\n",
    "print (ship_col)\n",
    "\n",
    "# Everything from here on should be in your for loop\n",
    "# don't forget to properly indent!\n",
    "for turn in range(4):\n",
    "  print (\"Turn\", turn + 1)\n",
    "  #guess_row = int(raw_input(\"Guess Row: \"))\n",
    "  #guess_col = int(raw_input(\"Guess Col: \"))\n",
    "  guess_row = 0\n",
    "  guess_col = 1\n",
    "  if guess_row == ship_row and guess_col == ship_col:\n",
    "    print (\"Congratulations! You sank my battleship!\")\n",
    "    break\n",
    "  else:\n",
    "    if guess_row not in range(5) or \\\n",
    "      guess_col not in range(5):\n",
    "      print (\"Oops, that's not even in the ocean.\")\n",
    "    elif board[guess_row][guess_col] == \"X\":\n",
    "      print( \"You guessed that one already.\" )\n",
    "    else:\n",
    "      print (\"You missed my battleship!\")\n",
    "      board[guess_row][guess_col] = \"X\"\n",
    "    print_board(board)\n",
    "    if turn == 3:\n",
    "      print (\"Game Over\")\n"
   ]
  },
  {
   "cell_type": "markdown",
   "metadata": {},
   "source": [
    "<a id='bit'></a>  <a href='#table'>Bitwise Operators Examples</a>"
   ]
  },
  {
   "cell_type": "code",
   "execution_count": 62,
   "metadata": {},
   "outputs": [
    {
     "name": "stdout",
     "output_type": "stream",
     "text": [
      "0\n",
      "10\n",
      "0\n",
      "13\n",
      "38\n",
      "-89\n",
      "1234567\n",
      "******\n",
      "4\n",
      "9\n",
      "0b10\n",
      "0o12\n",
      "0x10\n",
      "14 5 4\n",
      "0b100\n",
      "0b1111\n",
      "0b1011\n",
      "-124 -0b1111\n"
     ]
    }
   ],
   "source": [
    "print (5 >> 4)  # Right Shift\n",
    "print (5 << 1)  # Left Shift\n",
    "print (8 & 5)   # Bitwise AND\n",
    "print (9 | 4)   # Bitwise OR\n",
    "print (12 ^ 42) # Bitwise XOR\n",
    "print (~88)     # Bitwise NOT\n",
    "\n",
    "print (0b1,end='')    #1\n",
    "print (0b10,end='')   #2\n",
    "print (0b11,end='')   #3\n",
    "print (0b100,end='')  #4\n",
    "print (0b101,end='')   #5\n",
    "print (0b110,end='')   #6\n",
    "print (0b111)    #7\n",
    "print (\"******\")\n",
    "print (0b1 + 0b11)\n",
    "print (0b11 * 0b11)\n",
    "print (bin(2))\n",
    "print (oct(10))\n",
    "print (hex(16))\n",
    "\n",
    "#Convert string into number based on base \n",
    "int(\"110\", 2) # ==> 6\n",
    "\n",
    "# Left Bit Shift (<<)  \n",
    "#0b000001 << 2 == 0b000100 int equivalent (1 << 2 = 4)\n",
    "#0b000101 << 3 == 0b101000 int equivalent (5 << 3 = 40)       \n",
    "\n",
    "# Right Bit Shift (>>)\n",
    "#0b0010100 >> 3 == 0b000010 int equivalent (20 >> 3 = 2)\n",
    "#0b0000010 >> 2 == 0b000000 int equivalent (2 >> 2 = 0)\n",
    "\n",
    "# And, or, xor and not operator\n",
    "print (0b1110, 0b101, 0b1110 & 0b101)\n",
    "print (bin(0b1110 & 0b101))\n",
    "print (bin(0b1110 | 0b101))\n",
    "print (bin(0b1110 ^ 0b101))\n",
    "print (~123, bin(~0b1110))  # adds one to the number and makes negative - not a mask\n"
   ]
  },
  {
   "cell_type": "markdown",
   "metadata": {},
   "source": [
    "<a id='mask'></a>  <a href='#table'>Bitwise Mask Examples</a>"
   ]
  },
  {
   "cell_type": "code",
   "execution_count": 63,
   "metadata": {},
   "outputs": [
    {
     "name": "stdout",
     "output_type": "stream",
     "text": [
      "on\n",
      "0b10111111\n",
      "0b10001\n",
      "0b1100\n"
     ]
    }
   ],
   "source": [
    "def check_bit4(input):\n",
    "    mask = 0b1000 # 4th bit mask\n",
    "    desired = input & mask \n",
    "    if desired > 0:\n",
    "        return \"on\"\n",
    "    return \"off\"\n",
    "\n",
    "print (check_bit4(0b1000))\n",
    "\n",
    "a = 0b10111011  # mask on\n",
    "a = a | 0b0100\n",
    "print (bin(a))\n",
    "\n",
    "a = 0b11101110\n",
    "mask = 0b11111111 # flip work FF for all bits.\n",
    "desired =  a ^ mask # 0b1\n",
    "print (bin(desired))\n",
    "\n",
    "def flip_bit(flip, bit):\n",
    "    mask = 0b1 << (bit-1)\n",
    "    return bin(flip ^ mask)\n",
    "print (flip_bit(0b0100, 4))"
   ]
  },
  {
   "cell_type": "markdown",
   "metadata": {},
   "source": [
    "<a id='class'></a>  <a href='#table'>Class Examples</a>"
   ]
  },
  {
   "cell_type": "code",
   "execution_count": 64,
   "metadata": {},
   "outputs": [
    {
     "name": "stdout",
     "output_type": "stream",
     "text": [
      "I'm a yellow lemon and I taste sour.\n",
      "Yep! I'm edible.\n"
     ]
    }
   ],
   "source": [
    "class Fruit(object):\n",
    "  \"\"\"A class that makes various tasty fruits.\"\"\"\n",
    "  def __init__(self, name, color, flavor, poisonous):  #Initalized type\n",
    "    self.name = name\n",
    "    self.color = color\n",
    "    self.flavor = flavor\n",
    "    self.poisonous = poisonous\n",
    "\n",
    "  def description(self):\n",
    "    print (\"I'm a %s %s and I taste %s.\" % (self.color, self.name, self.flavor))\n",
    "\n",
    "  def is_edible(self):\n",
    "    if not self.poisonous:\n",
    "      print (\"Yep! I'm edible.\")\n",
    "    else:\n",
    "      print (\"Don't eat me! I am super poisonous.\")\n",
    "\n",
    "lemon = Fruit(\"lemon\", \"yellow\", \"sour\", False)\n",
    "lemon.description()\n",
    "lemon.is_edible()"
   ]
  },
  {
   "cell_type": "code",
   "execution_count": 48,
   "metadata": {},
   "outputs": [
    {
     "name": "stdout",
     "output_type": "stream",
     "text": [
      "DVD added.\n"
     ]
    }
   ],
   "source": [
    "class ShoppingCart(object):\n",
    "  \"\"\"Creates shopping cart objects\n",
    "  for users of our fine website.\"\"\"\n",
    "  items_in_cart = {}\n",
    "  def __init__(self, customer_name):\n",
    "    self.customer_name = customer_name\n",
    "\n",
    "  def add_item(self, product, price):\n",
    "    \"\"\"Add product to the cart.\"\"\"\n",
    "    if not product in self.items_in_cart:\n",
    "      self.items_in_cart[product] = price\n",
    "      print product + \" added.\"\n",
    "    else:\n",
    "      print product + \" is already in the cart.\"\n",
    "\n",
    "  def remove_item(self, product):\n",
    "    \"\"\"Remove product from the cart.\"\"\"\n",
    "    if product in self.items_in_cart:\n",
    "      del self.items_in_cart[product]\n",
    "      print product + \" removed.\"\n",
    "    else:\n",
    "      print product + \" is not in the cart.\"\n",
    "      \n",
    "my_cart = ShoppingCart(\"Bill\")\n",
    "my_cart.add_item(\"DVD\", 200.00)"
   ]
  },
  {
   "cell_type": "markdown",
   "metadata": {},
   "source": [
    "<a id='classinh'></a>  <a href='#table'>Class Inheritance Examples</a>"
   ]
  },
  {
   "cell_type": "code",
   "execution_count": 50,
   "metadata": {},
   "outputs": [
    {
     "name": "stdout",
     "output_type": "stream",
     "text": [
      "I'm a string that stands in for the contents of your shopping cart!\n",
      "I'm a string that stands in for your order history!\n"
     ]
    }
   ],
   "source": [
    "class Customer(object):\n",
    "  \"\"\"Produces objects that represent customers.\"\"\"\n",
    "  def __init__(self, customer_id):\n",
    "    self.customer_id = customer_id\n",
    "\n",
    "  def display_cart(self):\n",
    "    print (\"I'm a string that stands in for the contents of your shopping cart!\")\n",
    "\n",
    "class ReturningCustomer(Customer):  # Returning customer gets inheritance by defining object as class Customer\n",
    "  \"\"\"For customers of the repeat variety.\"\"\"\n",
    "  def display_order_history(self):\n",
    "    print (\"I'm a string that stands in for your order history!\")\n",
    "\n",
    "monty_python = ReturningCustomer(\"ID: 12345\")\n",
    "monty_python.display_cart()\n",
    "monty_python.display_order_history()"
   ]
  },
  {
   "cell_type": "markdown",
   "metadata": {},
   "source": [
    "<a id='classover'></a>  <a href='#table'>Class Override Examples</a>"
   ]
  },
  {
   "cell_type": "code",
   "execution_count": 65,
   "metadata": {},
   "outputs": [
    {
     "name": "stdout",
     "output_type": "stream",
     "text": [
      "Hello, Emily\n",
      "Get back to work, Steve!\n"
     ]
    }
   ],
   "source": [
    "class Employee(object):\n",
    "  def __init__(self, name):\n",
    "    self.name = name\n",
    "  def greet(self, other):\n",
    "    print (\"Hello, %s\" % other.name)\n",
    "\n",
    "class CEO(Employee):\n",
    "  def greet(self, other):\n",
    "    print (\"Get back to work, %s!\" % other.name)\n",
    "\n",
    "ceo = CEO(\"Emily\")\n",
    "emp = Employee(\"Steve\")\n",
    "emp.greet(ceo)\n",
    "# Hello, Emily\n",
    "ceo.greet(emp)\n",
    "# Get back to work, Steve!"
   ]
  },
  {
   "cell_type": "code",
   "execution_count": 66,
   "metadata": {},
   "outputs": [
    {
     "name": "stdout",
     "output_type": "stream",
     "text": [
      "200.0\n"
     ]
    }
   ],
   "source": [
    "class Employee(object):\n",
    "  \"\"\"Models real-life employees!\"\"\"\n",
    "  def __init__(self, employee_name):\n",
    "    self.employee_name = employee_name\n",
    "\n",
    "  def calculate_wage(self, hours):\n",
    "    self.hours = hours\n",
    "    return hours * 20.00\n",
    "\n",
    "# Add your code below!\n",
    "class PartTimeEmployee(Employee):\n",
    "  def full_time_wage(self, hours):\n",
    "    self.hours = hours\n",
    "    return super(PartTimeEmployee, self).calculate_wage(hours)  # Example of Super method override back to parent class\n",
    "milton = PartTimeEmployee(\"Milton\")\n",
    "print (milton.full_time_wage(10))"
   ]
  },
  {
   "cell_type": "code",
   "execution_count": 67,
   "metadata": {},
   "outputs": [
    {
     "name": "stdout",
     "output_type": "stream",
     "text": [
      "3\n",
      "True\n",
      "60 60\n"
     ]
    }
   ],
   "source": [
    "class Triangle(object):\n",
    "  number_of_sides = 3\n",
    "  def __init__(self, angle1, angle2, angle3):\n",
    "    self.angle1 = angle1\n",
    "    self.angle2 = angle2\n",
    "    self.angle3 = angle3\n",
    "  def check_angles(self):\n",
    "    return (self.angle1 + self.angle2 + self.angle3 == 180)\n",
    "\n",
    "\n",
    "class Equilateral(Triangle):\n",
    "  angle = 60\n",
    "  def __init__(self):\n",
    "    self.angle1 = self.angle\n",
    "    self.angle2 = self.angle\n",
    "    self.angle3 = self.angle\n",
    "\n",
    "g = Triangle(3, 1, 2)\n",
    "#print g.check_angles()\n",
    "#print Triangle.number_of_sides\n",
    "my_triangle = Equilateral()\n",
    "print (my_triangle.number_of_sides)\n",
    "print (my_triangle.check_angles())\n",
    "print (my_triangle.angle, my_triangle.angle1)"
   ]
  },
  {
   "cell_type": "code",
   "execution_count": 69,
   "metadata": {},
   "outputs": [
    {
     "name": "stdout",
     "output_type": "stream",
     "text": [
      "new\n",
      "used\n"
     ]
    }
   ],
   "source": [
    "class Car(object):\n",
    "  condition = \"new\"  #variable within each Type of Class\n",
    "  def __init__(self, model, color, mpg):\n",
    "    self.model = model\n",
    "    self.color = color\n",
    "    self.mpg   = mpg\n",
    "  def display_car(self):\n",
    "    print (\"This is a %s %s with %s MPG.\" % (self.color, self.model, self.mpg))\n",
    "  def drive_car(self):\n",
    "    self.condition = \"used\"\n",
    "\n",
    "my_car = Car(\"DeLorean\", \"silver\", 88)\n",
    "\n",
    "#print my_car.model\n",
    "#print my_car.color\n",
    "#print my_car.mpg\n",
    "#my_car.display_car()\n",
    "print (my_car.condition)\n",
    "my_car.drive_car()\n",
    "print (my_car.condition)"
   ]
  },
  {
   "cell_type": "code",
   "execution_count": 75,
   "metadata": {},
   "outputs": [
    {
     "name": "stdout",
     "output_type": "stream",
     "text": [
      "DeLorean\n"
     ]
    }
   ],
   "source": [
    "class Car(object):\n",
    "  condition = \"new\"\n",
    "  def __init__(self, model, color, mpg):\n",
    "    self.model = model\n",
    "    self.color = color\n",
    "    self.mpg   = mpg\n",
    "   \n",
    "  def display_car(self):\n",
    "    print (\"This is a %s %s with %s MPG.\" % (self.color, self.model, str(self.mpg)))\n",
    "    \n",
    "  def drive_car(self):\n",
    "    self.condition = \"used\"\n",
    "    \n",
    "class ElectricCar(Car):  #Although inherit function, must redefine again to initialize subtype (stupid)\n",
    "  def __init__(self, model, color, mpg, battery_type):\n",
    "    self.model = model\n",
    "    self.color = color\n",
    "    self.mpg   = mpg\n",
    "    self.battery_type = battery_type\n",
    "\n",
    "\n",
    "my_car = ElectricCar(\"DeLorean\", \"silver\", 88, \"molten salt\")\n",
    "print(my_car.model)"
   ]
  },
  {
   "cell_type": "code",
   "execution_count": 4,
   "metadata": {},
   "outputs": [
    {
     "name": "stdout",
     "output_type": "stream",
     "text": [
      "(1, 2, 3)\n"
     ]
    }
   ],
   "source": [
    "class Point3D(object):\n",
    "  def __init__(self, x, y, z):\n",
    "    self.x = x\n",
    "    self.y = y\n",
    "    self.z = z\n",
    "  def __repr__(self):\n",
    "    return(\"(%d, %d, %d)\") % (self.x, self.y, self.z)\n",
    "my_point = Point3D(1, 2, 3)\n",
    "print (my_point)"
   ]
  },
  {
   "cell_type": "markdown",
   "metadata": {},
   "source": [
    "<a id='fileio'></a>  <a href='#table'>Open and Read/Write File Examples</a>"
   ]
  },
  {
   "cell_type": "code",
   "execution_count": 61,
   "metadata": {
    "collapsed": true
   },
   "outputs": [],
   "source": [
    "#write-only mode (\"w\")\n",
    "#read-only mode (\"r\")\n",
    "#read and write mode (\"r+\")\n",
    "#append mode (\"a\")\n",
    "\n",
    "my_list = [i ** 2 for i in range(1, 11)]\n",
    "# Generates a list of squares of the numbers 1 - 10\n",
    "\n",
    "f = open(\"output.txt\", \"w\")\n",
    "\n",
    "for item in my_list:\n",
    "  f.write(str(item) + \"\\n\")\n",
    "\n",
    "f.close()"
   ]
  },
  {
   "cell_type": "code",
   "execution_count": 23,
   "metadata": {},
   "outputs": [
    {
     "name": "stdout",
     "output_type": "stream",
     "text": [
      "1\n",
      "4\n",
      "9\n",
      "16\n",
      "25\n",
      "36\n",
      "49\n",
      "64\n",
      "81\n",
      "100\n",
      "\n"
     ]
    }
   ],
   "source": [
    "my_file = open(\"output.txt\", \"r\")\n",
    "print (my_file.read())\n",
    "my_file.close()"
   ]
  },
  {
   "cell_type": "code",
   "execution_count": 24,
   "metadata": {},
   "outputs": [
    {
     "name": "stdout",
     "output_type": "stream",
     "text": [
      "1\n",
      "\n",
      "4\n",
      "\n",
      "9\n",
      "\n"
     ]
    }
   ],
   "source": [
    "my_file = open(\"output.txt\", \"r\")\n",
    "print (my_file.readline())\n",
    "print (my_file.readline())\n",
    "print (my_file.readline())\n",
    "my_file.close()"
   ]
  },
  {
   "cell_type": "code",
   "execution_count": 25,
   "metadata": {},
   "outputs": [
    {
     "name": "stdout",
     "output_type": "stream",
     "text": [
      "1\n",
      "4\n",
      "9\n",
      "16\n",
      "25\n",
      "36\n",
      "49\n",
      "64\n",
      "81\n",
      "100\n",
      "\n"
     ]
    }
   ],
   "source": [
    "#Different syntax for file open\n",
    "with open(\"output.txt\", \"r\") as my_file:\n",
    "  print (my_file.read())\n",
    "my_file.close()\n"
   ]
  },
  {
   "cell_type": "code",
   "execution_count": 26,
   "metadata": {},
   "outputs": [
    {
     "name": "stdout",
     "output_type": "stream",
     "text": [
      "True\n"
     ]
    }
   ],
   "source": [
    "with open(\"text.txt\", \"w\") as my_file:\n",
    "  my_file.write(\"pretty easy\")\n",
    "if my_file.closed == False:\n",
    "  my_file.close()\n",
    "print (my_file.closed)"
   ]
  },
  {
   "cell_type": "code",
   "execution_count": null,
   "metadata": {
    "collapsed": true
   },
   "outputs": [],
   "source": []
  }
 ],
 "metadata": {
  "kernelspec": {
   "display_name": "Python 3",
   "language": "python",
   "name": "python3"
  },
  "language_info": {
   "codemirror_mode": {
    "name": "ipython",
    "version": 3
   },
   "file_extension": ".py",
   "mimetype": "text/x-python",
   "name": "python",
   "nbconvert_exporter": "python",
   "pygments_lexer": "ipython3",
   "version": "3.6.3"
  }
 },
 "nbformat": 4,
 "nbformat_minor": 1
}
